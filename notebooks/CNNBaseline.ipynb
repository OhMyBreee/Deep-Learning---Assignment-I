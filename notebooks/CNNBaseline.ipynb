{
 "cells": [
  {
   "cell_type": "code",
   "execution_count": 8,
   "id": "921abd0a",
   "metadata": {},
   "outputs": [],
   "source": [
    "import torch\n",
    "import torch.nn as nn\n",
    "import torch.optim as optim\n",
    "import torch.nn.functional as F\n",
    "from torchvision import datasets, transforms\n",
    "from torch.utils.data import DataLoader\n",
    "import matplotlib.pyplot as plt\n",
    "# from torch.utils.tensorboard import SummaryWriter\n",
    "import numpy as np"
   ]
  },
  {
   "cell_type": "code",
   "execution_count": 2,
   "id": "9cfd82e8",
   "metadata": {},
   "outputs": [
    {
     "name": "stdout",
     "output_type": "stream",
     "text": [
      "Using device: cuda\n"
     ]
    }
   ],
   "source": [
    "device = torch.device(\"cuda\" if torch.cuda.is_available() else \"cpu\")\n",
    "print(\"Using device:\", device)\n"
   ]
  },
  {
   "cell_type": "code",
   "execution_count": null,
   "id": "485813e2",
   "metadata": {},
   "outputs": [],
   "source": [
    "transform = transforms.Compose([\n",
    "    transforms.RandomRotation(10),\n",
    "    transforms.RandomAffine(0, translate=(0.1, 0.1)),\n",
    "    transforms.ToTensor(),\n",
    "    transforms.Normalize((0.1307,), (0.3081,))\n",
    "])\n",
    "\n",
    "train_dataset = datasets.MNIST(root=\"./data\", train=True, download=True, transform=transform)\n",
    "test_dataset = datasets.MNIST(root=\"./data\", train=False, download=True, transform=transform)\n",
    "\n",
    "train_loader = DataLoader(train_dataset, batch_size=64, shuffle=True)\n",
    "test_loader = DataLoader(test_dataset, batch_size=1000, shuffle=False)\n"
   ]
  },
  {
   "cell_type": "code",
   "execution_count": 4,
   "id": "9a97e76d",
   "metadata": {},
   "outputs": [
    {
     "name": "stdout",
     "output_type": "stream",
     "text": [
      "LeNet(\n",
      "  (conv1): Conv2d(1, 6, kernel_size=(5, 5), stride=(1, 1))\n",
      "  (pool): AvgPool2d(kernel_size=2, stride=2, padding=0)\n",
      "  (conv2): Conv2d(6, 16, kernel_size=(5, 5), stride=(1, 1))\n",
      "  (fc1): Linear(in_features=256, out_features=120, bias=True)\n",
      "  (fc2): Linear(in_features=120, out_features=84, bias=True)\n",
      "  (fc3): Linear(in_features=84, out_features=10, bias=True)\n",
      ")\n"
     ]
    }
   ],
   "source": [
    "class LeNet(nn.Module):\n",
    "    def __init__(self):\n",
    "        super(LeNet, self).__init__()\n",
    "        self.conv1 = nn.Conv2d(1, 6, 5)     # input 1x28x28 -> output 6x24x24\n",
    "        self.pool = nn.AvgPool2d(2, 2)      # output 6x12x12\n",
    "        self.conv2 = nn.Conv2d(6, 16, 5)    # output 16x8x8\n",
    "        self.fc1 = nn.Linear(16*4*4, 120)\n",
    "        self.fc2 = nn.Linear(120, 84)\n",
    "        self.fc3 = nn.Linear(84, 10)\n",
    "\n",
    "    def forward(self, x):\n",
    "        activations = {}\n",
    "        x = F.relu(self.conv1(x))\n",
    "        activations['conv1'] = x.detach().cpu()\n",
    "        x = self.pool(x)\n",
    "        activations['pool1'] = x.detach().cpu()\n",
    "        x = F.relu(self.conv2(x))\n",
    "        activations['conv2'] = x.detach().cpu()\n",
    "        x = self.pool(x)\n",
    "        activations['pool2'] = x.detach().cpu()\n",
    "        x = x.view(-1, 16 * 4 * 4)\n",
    "        x = F.relu(self.fc1(x))\n",
    "        activations['fc1'] = x.detach().cpu()\n",
    "        x = F.relu(self.fc2(x))\n",
    "        activations['fc2'] = x.detach().cpu()\n",
    "        x = self.fc3(x)\n",
    "        activations['output'] = x\n",
    "        return activations\n",
    "\n",
    "model = LeNet().to(device)\n",
    "print(model)"
   ]
  },
  {
   "cell_type": "code",
   "execution_count": 5,
   "id": "bab293bc",
   "metadata": {},
   "outputs": [
    {
     "name": "stdout",
     "output_type": "stream",
     "text": [
      "Kernel Shape: (6, 1, 5, 5)\n",
      "Kernel Values:\n",
      "[[[[ 0.01609964  0.01028268 -0.08077908 -0.14204021  0.08560901]\n",
      "   [-0.06636622  0.18085466  0.14309168 -0.08897906  0.090779  ]\n",
      "   [ 0.1765983   0.17892341  0.07433682  0.14774852  0.12112167]\n",
      "   [-0.02963083  0.00492935  0.18767153  0.17898417  0.04759135]\n",
      "   [-0.02049792 -0.19566742 -0.06738754 -0.17328362 -0.03336382]]]\n",
      "\n",
      "\n",
      " [[[ 0.18169546 -0.09050035 -0.0918875   0.06641605 -0.11998194]\n",
      "   [-0.16362424 -0.16617246 -0.16341583 -0.0977804  -0.09777315]\n",
      "   [ 0.0151989   0.14961982  0.12590264 -0.00760329 -0.11282964]\n",
      "   [-0.14376223 -0.05939887  0.19120996 -0.10846093  0.03447254]\n",
      "   [-0.13902996 -0.17493768  0.14857684 -0.16637662  0.15173201]]]\n",
      "\n",
      "\n",
      " [[[ 0.17423499  0.08966871  0.04820745  0.02725027 -0.19407569]\n",
      "   [ 0.1286329  -0.17652965 -0.08260877  0.01952047  0.1613405 ]\n",
      "   [ 0.1712296  -0.1869529  -0.04562102  0.05326099 -0.08433666]\n",
      "   [ 0.09839928 -0.05034781 -0.12050333 -0.05419836  0.15042925]\n",
      "   [ 0.09775849  0.12643535  0.1794254  -0.03365503 -0.09225231]]]\n",
      "\n",
      "\n",
      " [[[-0.07052121 -0.02924683 -0.07469547 -0.1723802  -0.07544272]\n",
      "   [-0.15928577 -0.07818692 -0.10912716 -0.17510279 -0.16545306]\n",
      "   [-0.0596946   0.04763997  0.03247752  0.08750329 -0.17177689]\n",
      "   [ 0.0812896   0.15564609 -0.1542137   0.15905288 -0.13747275]\n",
      "   [-0.10325847  0.12930195 -0.00964453  0.09683683  0.10684936]]]\n",
      "\n",
      "\n",
      " [[[-0.10646675  0.11283395  0.06812119 -0.11485896  0.1723384 ]\n",
      "   [ 0.09447699 -0.17991684  0.07805818 -0.00789261 -0.01540129]\n",
      "   [ 0.11786049  0.1451652   0.11958139 -0.18252373 -0.05984063]\n",
      "   [-0.12766607  0.16231592  0.08389099  0.17119184 -0.11130025]\n",
      "   [-0.12374747  0.05491288 -0.1946249  -0.11603694 -0.10184596]]]\n",
      "\n",
      "\n",
      " [[[-0.03240531 -0.16432126 -0.06557839  0.19720452  0.0099406 ]\n",
      "   [ 0.12600298  0.193206    0.13633643  0.1870394  -0.15523314]\n",
      "   [ 0.11640146 -0.17376617 -0.02533748 -0.01577544  0.02037418]\n",
      "   [ 0.14652923 -0.14510062  0.02443681 -0.07368677 -0.16733995]\n",
      "   [-0.12981808  0.05930557 -0.09308255  0.00964339 -0.10135505]]]]\n"
     ]
    }
   ],
   "source": [
    "# Assuming 'model' is your PyTorch model instance\n",
    "conv_layer = model.conv1 # Replace 'conv1' with the actual layer name\n",
    "\n",
    "# 1. Access the weight tensor\n",
    "kernel_tensor = conv_layer.weight\n",
    "\n",
    "# 2. Detach from the graph and move to CPU for printing/analysis\n",
    "kernel_values = kernel_tensor.detach().cpu().numpy()\n",
    "\n",
    "# 3. Print the shape and values\n",
    "print(f\"Kernel Shape: {kernel_values.shape}\")\n",
    "print(f\"Kernel Values:\\n{kernel_values}\")"
   ]
  },
  {
   "cell_type": "code",
   "execution_count": 6,
   "id": "2e5880ee",
   "metadata": {},
   "outputs": [],
   "source": [
    "# Squeeze the In_Channels dimension if it's 1 (e.g., for MNIST)\n",
    "kernels_to_plot = kernel_values.squeeze(axis=1)\n",
    "\n",
    "# The new shape is (Out_Channels, H, W)\n",
    "num_filters = kernels_to_plot.shape[0]\n",
    "kernel_height = kernels_to_plot.shape[1]"
   ]
  },
  {
   "cell_type": "code",
   "execution_count": 9,
   "id": "0c21c43f",
   "metadata": {},
   "outputs": [
    {
     "data": {
      "image/png": "[encoded data removed]",
      "text/plain": [
       "<Figure size 400x600 with 6 Axes>"
      ]
     },
     "metadata": {},
     "output_type": "display_data"
    }
   ],
   "source": [
    "# Determine the grid size (e.g., 8x8, 4x8, etc.)\n",
    "rows = int(np.ceil(np.sqrt(num_filters)))\n",
    "cols = int(np.ceil(num_filters / rows))\n",
    "\n",
    "fig, axes = plt.subplots(rows, cols, figsize=(cols*2, rows*2))\n",
    "fig.suptitle(f\"Conv2D Layer 1 Kernels ({kernel_height}x{kernel_height})\", fontsize=16)\n",
    "\n",
    "for i, ax in enumerate(axes.flat):\n",
    "    if i < num_filters:\n",
    "        # Use imshow to display the 2D kernel slice\n",
    "        ax.imshow(kernels_to_plot[i], cmap='gray')\n",
    "        ax.set_title(f'Filter {i}', fontsize=10)\n",
    "    \n",
    "    # Hide axis ticks for a cleaner visualization\n",
    "    ax.set_xticks([])\n",
    "    ax.set_yticks([])\n",
    "\n",
    "plt.tight_layout(rect=[0, 0, 1, 0.96]) # Adjust for suptitle\n",
    "plt.show()"
   ]
  },
  {
   "cell_type": "code",
   "execution_count": 19,
   "id": "5e0299d3",
   "metadata": {},
   "outputs": [],
   "source": [
    "# =========================================\n",
    "# 4. Training Setup\n",
    "# =========================================\n",
    "criterion = nn.CrossEntropyLoss()\n",
    "optimizer = optim.Adam(model.parameters(), lr=0.001)\n",
    "\n",
    "num_epochs = 5\n",
    "train_losses, test_accuracies = [], []"
   ]
  },
  {
   "cell_type": "code",
   "execution_count": 20,
   "id": "cc32c6ba",
   "metadata": {},
   "outputs": [
    {
     "name": "stdout",
     "output_type": "stream",
     "text": [
      "Before training, test accuracy: 9.85\n"
     ]
    }
   ],
   "source": [
    "# =========================================\n",
    "# 5. Before Training (Baseline Evaluation)\n",
    "# =========================================\n",
    "def evaluate(model, loader):\n",
    "    model.eval()\n",
    "    correct, total = 0, 0\n",
    "    with torch.no_grad():\n",
    "        for data, target in loader:\n",
    "            data, target = data.to(device), target.to(device)\n",
    "\n",
    "            activations = model(data)\n",
    "            outputs = activations[\"output\"].to(device)  # 🔹 Extract final predictions\n",
    "\n",
    "            _, predicted = torch.max(outputs, 1)  # 🔹 Get class with highest probability\n",
    "            total += target.size(0)\n",
    "            correct += (predicted == target).sum().item()\n",
    "    return 100 * correct / total\n",
    "\n",
    "print(\"Before training, test accuracy:\", evaluate(model, test_loader))"
   ]
  },
  {
   "cell_type": "code",
   "execution_count": 22,
   "id": "a9a009cd",
   "metadata": {},
   "outputs": [
    {
     "name": "stdout",
     "output_type": "stream",
     "text": [
      "Epoch [1/5] - Loss: 0.0919 | Test Accuracy: 97.57%\n",
      "Epoch [2/5] - Loss: 0.0651 | Test Accuracy: 98.32%\n",
      "Epoch [3/5] - Loss: 0.0506 | Test Accuracy: 98.51%\n",
      "Epoch [4/5] - Loss: 0.0411 | Test Accuracy: 98.66%\n",
      "Epoch [5/5] - Loss: 0.0342 | Test Accuracy: 98.79%\n"
     ]
    }
   ],
   "source": [
    "# =========================================\n",
    "# 6. Train Model\n",
    "# =========================================\n",
    "for epoch in range(num_epochs):\n",
    "    model.train()\n",
    "    running_loss = 0.0\n",
    "\n",
    "    for data, target in train_loader:\n",
    "        data, target = data.to(device), target.to(device)\n",
    "        optimizer.zero_grad()\n",
    "        activations = model(data)\n",
    "        outputs = activations[\"output\"].to(device)\n",
    "        loss = criterion(outputs, target)\n",
    "        loss.backward()\n",
    "        optimizer.step()\n",
    "        running_loss += loss.item()\n",
    "\n",
    "    avg_loss = running_loss / len(train_loader)\n",
    "    train_losses.append(avg_loss)\n",
    "    test_acc = evaluate(model, test_loader)\n",
    "    test_accuracies.append(test_acc)\n",
    "\n",
    "    print(f\"Epoch [{epoch+1}/{num_epochs}] - Loss: {avg_loss:.4f} | Test Accuracy: {test_acc:.2f}%\")"
   ]
  },
  {
   "cell_type": "code",
   "execution_count": 23,
   "id": "80d78a4b",
   "metadata": {},
   "outputs": [
    {
     "data": {
      "image/png": "[encoded data removed]",
      "text/plain": [
       "<Figure size 1000x400 with 2 Axes>"
      ]
     },
     "metadata": {},
     "output_type": "display_data"
    },
    {
     "name": "stdout",
     "output_type": "stream",
     "text": [
      "Final Test Accuracy: 98.79\n"
     ]
    }
   ],
   "source": [
    "# =========================================\n",
    "# 7. Visualization\n",
    "# =========================================\n",
    "plt.figure(figsize=(10,4))\n",
    "plt.subplot(1,2,1)\n",
    "plt.plot(train_losses, label='Training Loss')\n",
    "plt.xlabel('Epoch')\n",
    "plt.ylabel('Loss')\n",
    "plt.title('Loss Curve')\n",
    "plt.legend()\n",
    "\n",
    "plt.subplot(1,2,2)\n",
    "plt.plot(test_accuracies, label='Test Accuracy', color='orange')\n",
    "plt.xlabel('Epoch')\n",
    "plt.ylabel('Accuracy (%)')\n",
    "plt.title('Accuracy Curve')\n",
    "plt.legend()\n",
    "\n",
    "plt.show()\n",
    "\n",
    "# =========================================\n",
    "# 8. Final Evaluation\n",
    "# =========================================\n",
    "final_acc = evaluate(model, test_loader)\n",
    "print(\"Final Test Accuracy:\", final_acc)"
   ]
  },
  {
   "cell_type": "code",
   "execution_count": 41,
   "id": "cf8d0fba",
   "metadata": {},
   "outputs": [
    {
     "data": {
      "text/plain": [
       "LeNet(\n",
       "  (conv1): Conv2d(1, 6, kernel_size=(5, 5), stride=(1, 1))\n",
       "  (pool): AvgPool2d(kernel_size=2, stride=2, padding=0)\n",
       "  (conv2): Conv2d(6, 16, kernel_size=(5, 5), stride=(1, 1))\n",
       "  (fc1): Linear(in_features=256, out_features=120, bias=True)\n",
       "  (fc2): Linear(in_features=120, out_features=84, bias=True)\n",
       "  (fc3): Linear(in_features=84, out_features=10, bias=True)\n",
       ")"
      ]
     },
     "execution_count": 41,
     "metadata": {},
     "output_type": "execute_result"
    }
   ],
   "source": [
    "device = torch.device(\"cuda\" if torch.cuda.is_available() else \"cpu\")\n",
    "model.to(device)\n"
   ]
  },
  {
   "cell_type": "code",
   "execution_count": 50,
   "id": "faffcdc9",
   "metadata": {},
   "outputs": [],
   "source": [
    "import pygame\n",
    "import numpy as np\n",
    "import torch\n",
    "\n",
    "# === 3. Visualization Helper ===\n",
    "def tensor_to_surface(tensor):\n",
    "    \"\"\"Convert tensor [C,H,W] or [H,W] to Pygame surface.\"\"\"\n",
    "    tensor = tensor.detach().cpu()\n",
    "    if tensor.dim() == 3:\n",
    "        tensor = tensor[0]  # get first channel if grayscale\n",
    "    array = tensor.numpy()\n",
    "    array = (array - array.min()) / (array.max() - array.min() + 1e-5)  # normalize 0-1\n",
    "    array = (array * 255).astype(np.uint8)\n",
    "    surf = pygame.surfarray.make_surface(array)\n",
    "    return pygame.transform.scale(surf, (64, 64))\n",
    "\n",
    "# === 4. Visualization Function ===\n",
    "def visualize_layers(model, loader, device):\n",
    "    pygame.init()\n",
    "    screen = pygame.display.set_mode((800, 600))\n",
    "    pygame.display.set_caption(\"LeNet Layer Visualization\")\n",
    "    clock = pygame.time.Clock()\n",
    "\n",
    "    font = pygame.font.SysFont(\"Arial\", 20)\n",
    "    running = True\n",
    "    iterator = iter(loader)\n",
    "\n",
    "    while running:\n",
    "        try:\n",
    "            data, target = next(iterator)\n",
    "        except StopIteration:\n",
    "            iterator = iter(loader)\n",
    "            data, target = next(iterator)\n",
    "\n",
    "        # Take only the first sample from the batch\n",
    "        data = data[0:1].to(device)\n",
    "        target = target[0].to(device)\n",
    "\n",
    "        model.eval()\n",
    "        with torch.no_grad():\n",
    "            activations = model(data)\n",
    "\n",
    "        # Extract layers you want to visualize\n",
    "        conv1_maps = activations[\"conv1\"][0].cpu()\n",
    "        pool1_maps = activations[\"pool1\"][0].cpu()\n",
    "        conv2_maps = activations[\"conv2\"][0].cpu()\n",
    "        pool2_maps = activations[\"pool2\"][0].cpu()\n",
    "\n",
    "        screen.fill((20, 20, 20))\n",
    "\n",
    "        # Draw input image\n",
    "        input_img = tensor_to_surface(data[0])\n",
    "        screen.blit(input_img, (30, 50))\n",
    "        screen.blit(font.render(\"Input\", True, (255, 255, 255)), (30, 20))\n",
    "\n",
    "        # Draw Conv1 activations\n",
    "        for i in range(min(6, conv1_maps.shape[0])):\n",
    "            img = tensor_to_surface(conv1_maps[i])\n",
    "            screen.blit(img, (150 + i * 70, 50))\n",
    "        screen.blit(font.render(\"Conv1\", True, (255, 255, 255)), (150, 20))\n",
    "\n",
    "        # Draw Pool1 activations\n",
    "        for i in range(min(6, pool1_maps.shape[0])):\n",
    "            img = tensor_to_surface(pool1_maps[i])\n",
    "            screen.blit(img, (150 + i * 70, 150))\n",
    "        screen.blit(font.render(\"Pool1\", True, (255, 255, 255)), (150, 120))\n",
    "\n",
    "        # Draw Conv2 activations\n",
    "        for i in range(min(6, conv2_maps.shape[0])):\n",
    "            img = tensor_to_surface(conv2_maps[i])\n",
    "            screen.blit(img, (150 + i * 70, 250))\n",
    "        screen.blit(font.render(\"Conv2\", True, (255, 255, 255)), (150, 220))\n",
    "\n",
    "        # Draw Pool2 activations\n",
    "        for i in range(min(6, pool2_maps.shape[0])):\n",
    "            img = tensor_to_surface(pool2_maps[i])\n",
    "            screen.blit(img, (150 + i * 70, 350))\n",
    "        screen.blit(font.render(\"Pool2\", True, (255, 255, 255)), (150, 320))\n",
    "\n",
    "        # Prediction (single image)\n",
    "        p = activations[\"output\"]\n",
    "        _, pred = torch.max(p, 1)\n",
    "        pred = pred.item()\n",
    "        label = target.item()\n",
    "        screen.blit(font.render(f\"Predicted: {pred} | Label: {label}\", True, (0, 255, 0)), (30, 500))\n",
    "\n",
    "        pygame.display.flip()\n",
    "        clock.tick(1)  # show 1 sample per second\n",
    "\n",
    "        # Handle events\n",
    "        for event in pygame.event.get():\n",
    "            if event.type == pygame.QUIT:\n",
    "                running = False\n",
    "            elif event.type == pygame.KEYDOWN and event.key == pygame.K_SPACE:\n",
    "                # Skip to next sample manually\n",
    "                break\n",
    "\n",
    "    pygame.quit()\n"
   ]
  },
  {
   "cell_type": "code",
   "execution_count": 51,
   "id": "e6e175dc",
   "metadata": {},
   "outputs": [],
   "source": [
    "visualize_layers(model, test_loader, device)"
   ]
  }
 ],
 "metadata": {
  "kernelspec": {
   "display_name": "machinelearning",
   "language": "python",
   "name": "python3"
  },
  "language_info": {
   "codemirror_mode": {
    "name": "ipython",
    "version": 3
   },
   "file_extension": ".py",
   "mimetype": "text/x-python",
   "name": "python",
   "nbconvert_exporter": "python",
   "pygments_lexer": "ipython3",
   "version": "3.10.13"
  }
 },
 "nbformat": 4,
 "nbformat_minor": 5
}
